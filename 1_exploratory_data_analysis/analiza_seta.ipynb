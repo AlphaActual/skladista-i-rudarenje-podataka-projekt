{
 "cells": [
  {
   "cell_type": "code",
   "execution_count": 2,
   "metadata": {},
   "outputs": [
    {
     "name": "stdout",
     "output_type": "stream",
     "text": [
      "           model  year  price transmission  mileage fuelType  tax   mpg  engineSize Manufacturer\n",
      "0            I10  2017   7495       Manual    11630   Petrol  145  60.1         1.0       hyundi\n",
      "1           Polo  2017  10989       Manual     9200   Petrol  145  58.9         1.0   volkswagen\n",
      "2       2 Series  2019  27990    Semi-Auto     1614   Diesel  145  49.6         2.0          BMW\n",
      "3   Yeti Outdoor  2017  12495       Manual    30960   Diesel  150  62.8         2.0        skoda\n",
      "4         Fiesta  2017   7999       Manual    19353   Petrol  125  54.3         1.2         ford\n"
     ]
    }
   ],
   "source": [
    "# Učitavanje potrebnih biblioteka\n",
    "import pandas as pd\n",
    "pd.set_option('display.width', 1000)\n",
    "pd.set_option('display.max_columns', None)\n",
    "# pd.set_option('display.max_rows', 1000)\n",
    "\n",
    "# Učitavanje podataka iz CSV datoteke\n",
    "PATH = \"../data/cars_data_original.csv\"\n",
    "\n",
    "# Učitavanje svih podataka\n",
    "data = pd.read_csv(PATH, delimiter=',')\n",
    "\n",
    "# Ispis prvih 5 redova\n",
    "print(data.head())"
   ]
  },
  {
   "cell_type": "code",
   "execution_count": 20,
   "metadata": {},
   "outputs": [
    {
     "name": "stdout",
     "output_type": "stream",
     "text": [
      "(97712, 10)\n"
     ]
    }
   ],
   "source": [
    "# Ispis dimenzija skupa podataka (potrebno je učitati sve podatke radi analize, ne samo prvih 2000 redova)\n",
    "print(data.shape)"
   ]
  },
  {
   "cell_type": "code",
   "execution_count": 21,
   "metadata": {},
   "outputs": [
    {
     "name": "stdout",
     "output_type": "stream",
     "text": [
      "model           0\n",
      "year            0\n",
      "price           0\n",
      "transmission    0\n",
      "mileage         0\n",
      "fuelType        0\n",
      "tax             0\n",
      "mpg             0\n",
      "engineSize      0\n",
      "Manufacturer    0\n",
      "dtype: int64\n"
     ]
    }
   ],
   "source": [
    "# Ispis imena stupaca i nedostajućih vrijednosti\n",
    "print(data.isna().sum())"
   ]
  },
  {
   "cell_type": "code",
   "execution_count": 22,
   "metadata": {},
   "outputs": [
    {
     "name": "stdout",
     "output_type": "stream",
     "text": [
      "model             195\n",
      "year               27\n",
      "price           13236\n",
      "transmission        4\n",
      "mileage         42214\n",
      "fuelType            5\n",
      "tax                48\n",
      "mpg               208\n",
      "engineSize         40\n",
      "Manufacturer        9\n",
      "dtype: int64\n"
     ]
    }
   ],
   "source": [
    "# Ispis broja jedinstvenih vrijednosti po stupcima\n",
    "print(data.nunique())"
   ]
  },
  {
   "cell_type": "code",
   "execution_count": 23,
   "metadata": {},
   "outputs": [
    {
     "name": "stdout",
     "output_type": "stream",
     "text": [
      "model            object\n",
      "year              int64\n",
      "price             int64\n",
      "transmission     object\n",
      "mileage           int64\n",
      "fuelType         object\n",
      "tax               int64\n",
      "mpg             float64\n",
      "engineSize      float64\n",
      "Manufacturer     object\n",
      "dtype: object\n"
     ]
    }
   ],
   "source": [
    "# Ispis tipova podataka po stupcima (analiza kvanitativnih i kvalitativnih varijabli)\n",
    "print(data.dtypes)"
   ]
  },
  {
   "cell_type": "code",
   "execution_count": 24,
   "metadata": {},
   "outputs": [
    {
     "name": "stdout",
     "output_type": "stream",
     "text": [
      "model\n",
      " Fiesta     6509\n",
      " Golf       4797\n",
      " Focus      4555\n",
      " C Class    3694\n",
      " Corsa      3285\n",
      "            ... \n",
      " A2            1\n",
      " Amica         1\n",
      " RS7           1\n",
      " Accent        1\n",
      "220            1\n",
      "Name: count, Length: 195, dtype: int64\n",
      "year\n",
      "2019    26165\n",
      "2017    21616\n",
      "2016    15724\n",
      "2018    13570\n",
      "2015     7586\n",
      "2014     4053\n",
      "2020     4040\n",
      "2013     2590\n",
      "2012      633\n",
      "2011      432\n",
      "2010      340\n",
      "2009      277\n",
      "2008      199\n",
      "2007      163\n",
      "2006       86\n",
      "2005       69\n",
      "2004       52\n",
      "2003       34\n",
      "2002       31\n",
      "2001       20\n",
      "2000        9\n",
      "1998        8\n",
      "1999        6\n",
      "1997        4\n",
      "1996        2\n",
      "1970        2\n",
      "2024        1\n",
      "Name: count, dtype: int64\n",
      "price\n",
      "9995     585\n",
      "8995     490\n",
      "10995    469\n",
      "12995    442\n",
      "11995    428\n",
      "        ... \n",
      "30045      1\n",
      "8707       1\n",
      "20885      1\n",
      "14715      1\n",
      "29298      1\n",
      "Name: count, Length: 13236, dtype: int64\n",
      "transmission\n",
      "Manual       55502\n",
      "Semi-Auto    22296\n",
      "Automatic    19905\n",
      "Other            9\n",
      "Name: count, dtype: int64\n",
      "mileage\n",
      "10       647\n",
      "5000     641\n",
      "1000     615\n",
      "6000     456\n",
      "3000     371\n",
      "        ... \n",
      "51250      1\n",
      "14605      1\n",
      "11623      1\n",
      "21208      1\n",
      "30960      1\n",
      "Name: count, Length: 42214, dtype: int64\n",
      "fuelType\n",
      "Petrol      53982\n",
      "Diesel      40419\n",
      "Hybrid       3059\n",
      "Other         246\n",
      "Electric        6\n",
      "Name: count, dtype: int64\n",
      "tax\n",
      "145    47377\n",
      "150    10816\n",
      "30      8423\n",
      "20      8248\n",
      "125     6562\n",
      "0       6259\n",
      "200     2424\n",
      "160     2056\n",
      "135     1217\n",
      "205      696\n",
      "165      679\n",
      "235      662\n",
      "260      530\n",
      "140      369\n",
      "300      341\n",
      "240      202\n",
      "325      185\n",
      "265      174\n",
      "305       99\n",
      "555       78\n",
      "570       57\n",
      "330       51\n",
      "10        25\n",
      "565       22\n",
      "190       19\n",
      "195       16\n",
      "120       14\n",
      "115       12\n",
      "155       12\n",
      "580       10\n",
      "230       10\n",
      "270        9\n",
      "315        8\n",
      "220        7\n",
      "540        6\n",
      "280        6\n",
      "290        6\n",
      "185        5\n",
      "250        4\n",
      "255        3\n",
      "245        3\n",
      "110        2\n",
      "210        2\n",
      "130        2\n",
      "295        1\n",
      "535        1\n",
      "520        1\n",
      "515        1\n",
      "Name: count, dtype: int64\n",
      "mpg\n",
      "60.1    6109\n",
      "65.7    4669\n",
      "54.3    3943\n",
      "64.2    3563\n",
      "51.4    3555\n",
      "        ... \n",
      "25.0       1\n",
      "30.8       1\n",
      "22.3       1\n",
      "44.6       1\n",
      "11.0       1\n",
      "Name: count, Length: 208, dtype: int64\n",
      "engineSize\n",
      "2.0    26886\n",
      "1.0    17083\n",
      "1.5    11247\n",
      "1.4    10893\n",
      "1.6     8700\n",
      "1.2     6718\n",
      "3.0     5395\n",
      "2.1     3970\n",
      "1.8     1715\n",
      "1.3     1307\n",
      "1.7      907\n",
      "1.1      558\n",
      "2.2      466\n",
      "2.5      454\n",
      "4.0      355\n",
      "0.0      268\n",
      "2.9      170\n",
      "2.3      145\n",
      "4.4       79\n",
      "2.4       72\n",
      "5.0       52\n",
      "5.5       44\n",
      "2.8       41\n",
      "1.9       27\n",
      "3.2       27\n",
      "4.2       26\n",
      "4.7       24\n",
      "5.2       23\n",
      "3.5       20\n",
      "6.2       13\n",
      "2.7        8\n",
      "0.6        7\n",
      "4.1        2\n",
      "3.7        2\n",
      "6.0        2\n",
      "6.6        2\n",
      "4.5        1\n",
      "5.4        1\n",
      "4.3        1\n",
      "6.3        1\n",
      "Name: count, dtype: int64\n",
      "Manufacturer\n",
      "ford          17811\n",
      "volkswagen    14893\n",
      "vauxhall      13258\n",
      "merc          12860\n",
      "BMW           10664\n",
      "Audi          10565\n",
      "toyota         6699\n",
      "skoda          6188\n",
      "hyundi         4774\n",
      "Name: count, dtype: int64\n"
     ]
    }
   ],
   "source": [
    "# Ispis broja jedinstvenih vrijednosti po stupcima\n",
    "for column in data:\n",
    "    print(data[column].value_counts())\n",
    "    input(\"...\")"
   ]
  },
  {
   "cell_type": "code",
   "execution_count": 25,
   "metadata": {},
   "outputs": [
    {
     "name": "stdout",
     "output_type": "stream",
     "text": [
      "2024\n"
     ]
    }
   ],
   "source": [
    "# highest year value\n",
    "print(data['year'].max())"
   ]
  },
  {
   "cell_type": "code",
   "execution_count": 26,
   "metadata": {},
   "outputs": [
    {
     "name": "stdout",
     "output_type": "stream",
     "text": [
      "1\n",
      "323000\n",
      "17682.5\n",
      "23219.475499426888\n",
      "21060.882301464\n",
      "443560763.3161195\n",
      "7673.0\n"
     ]
    }
   ],
   "source": [
    "# Ispis najmanje i najveće kilometraže\n",
    "print(data['mileage'].min())\n",
    "print(data['mileage'].max())\n",
    "# Ispis medijana i prosjeka kilometraže\n",
    "print(data['mileage'].median())\n",
    "print(data['mileage'].mean())\n",
    "# Ispis standardne devijacije kilometraže\n",
    "print(data['mileage'].std())\n",
    "# Ispis varijance kilometraže\n",
    "print(data['mileage'].var())\n",
    "# Ispis kvartila kilometraže\n",
    "print(data['mileage'].quantile(0.25))"
   ]
  },
  {
   "cell_type": "code",
   "execution_count": 27,
   "metadata": {},
   "outputs": [
    {
     "name": "stdout",
     "output_type": "stream",
     "text": [
      "0.0\n",
      "6.6\n",
      "268\n"
     ]
    }
   ],
   "source": [
    "# analiza veličine motora\n",
    "print(data['engineSize'].min())\n",
    "print(data['engineSize'].max())\n",
    "\n",
    "# broj redava koji imaju engineSize == 0\n",
    "print(data[data['engineSize'] == 0].shape[0])\n"
   ]
  },
  {
   "cell_type": "code",
   "execution_count": 28,
   "metadata": {},
   "outputs": [
    {
     "name": "stdout",
     "output_type": "stream",
     "text": [
      "           model  year  price transmission  mileage fuelType  tax    mpg  engineSize Manufacturer\n",
      "449           i3  2017  19895    Automatic    29851   Hybrid    0  470.8         0.0          BMW\n",
      "969           i3  2016  14900    Automatic    59945   Hybrid    0  470.8         0.0          BMW\n",
      "1985    3 Series  2018  18000    Automatic    24240   Diesel  150   64.2         0.0          BMW\n",
      "2219       Astra  2017  11000       Manual    14878   Petrol  145   51.4         0.0     vauxhall\n",
      "3290         I10  2015   7500       Manual    13637   Petrol   30   57.6         0.0       hyundi\n",
      "...          ...   ...    ...          ...      ...      ...  ...    ...         ...          ...\n",
      "95623     Fiesta  2018  12999       Manual    15000   Petrol  150   58.9         0.0         ford\n",
      "95625        I20  2017  11400    Automatic    12661   Petrol  145   44.1         0.0       hyundi\n",
      "96910     Mondeo  2013   5328       Manual   105000   Diesel   30   65.7         0.0         ford\n",
      "97033        I10  2016   6300       Manual    17272   Petrol   20   61.4         0.0       hyundi\n",
      "97248         A3  2019  23444    Automatic     1500   Petrol  145   44.1         0.0         Audi\n",
      "\n",
      "[268 rows x 10 columns]\n"
     ]
    }
   ],
   "source": [
    "# prikaz svih redaka koji imaju engine size 0.0 - ispiši sve retke\n",
    "# Budući da 268 motora imaju obujam motora 0.0 upućuje na podatak koji ne postoji ili je pogrešno unesen\n",
    "print(data[data['engineSize'] == 0.0])\n"
   ]
  },
  {
   "cell_type": "code",
   "execution_count": 29,
   "metadata": {},
   "outputs": [
    {
     "name": "stdout",
     "output_type": "stream",
     "text": [
      "['model' 'year' 'price' 'transmission' 'mileage' 'fuelType' 'tax' 'mpg'\n",
      " 'engineSize' 'Manufacturer']\n"
     ]
    }
   ],
   "source": [
    "# Ispis imena stupaca\n",
    "print(data.columns.values)"
   ]
  },
  {
   "cell_type": "code",
   "execution_count": 30,
   "metadata": {},
   "outputs": [
    {
     "name": "stdout",
     "output_type": "stream",
     "text": [
      "['hyundi' 'volkswagen' 'BMW' 'skoda' 'ford' 'toyota' 'merc' 'vauxhall'\n",
      " 'Audi']\n"
     ]
    }
   ],
   "source": [
    "print(data['Manufacturer'].unique())"
   ]
  },
  {
   "cell_type": "code",
   "execution_count": 31,
   "metadata": {},
   "outputs": [
    {
     "name": "stdout",
     "output_type": "stream",
     "text": [
      "[2017 2019 2018 2016 2020 2015 2014 2013 2008 2011 2010 2012 2007 2009\n",
      " 2003 1998 2006 2002 2005 2004 2001 2000 1997 1999 1996 2024 1970]\n"
     ]
    }
   ],
   "source": [
    "print(data['year'].unique())"
   ]
  },
  {
   "cell_type": "code",
   "execution_count": 32,
   "metadata": {},
   "outputs": [
    {
     "name": "stdout",
     "output_type": "stream",
     "text": [
      "[' I10' ' Polo' ' 2 Series' ' Yeti Outdoor' ' Fiesta' ' C-HR' ' Kuga'\n",
      " ' Tiguan' ' A Class' ' 1 Series' ' Up' ' Golf' ' Corsa' ' RAV4'\n",
      " ' GLA Class' ' Aygo' ' Q5' ' Karoq' ' Scala' ' Auris' ' Tucson' ' A4'\n",
      " ' Viva' ' Kodiaq' ' C Class' ' Mondeo' ' Citigo' ' Yaris' ' X4'\n",
      " ' Octavia' ' Astra' ' Focus' ' 3 Series' ' GLC Class' ' Q3' ' B-MAX'\n",
      " ' C-MAX' ' IX20' ' X5' ' T-Cross' ' Shuttle' ' Insignia' ' Zafira' ' A3'\n",
      " ' A5' ' SL CLASS' ' EcoSport' ' X1' ' Fabia' ' Golf SV' ' Verso' ' Yeti'\n",
      " ' Mokka X' ' Antara' ' E Class' ' 4 Series' ' Superb' ' 5 Series'\n",
      " ' 8 Series' ' B Class' ' Ka+' ' X2' ' GLE Class' ' A6' ' Mokka' ' Passat'\n",
      " ' Kamiq' ' Adam' ' Q7' ' Tiguan Allspace' ' X3' ' A1' ' Grandland X'\n",
      " ' Meriva' ' Tourneo Connect' ' Arteon' ' TT' ' GLS Class' ' Santa Fe'\n",
      " ' I30' ' S Class' ' Ioniq' ' Edge' ' S-MAX' ' SLK' ' Crossland X'\n",
      " ' 7 Series' ' T-Roc' ' Q2' ' CL Class' ' CLA Class' ' 6 Series'\n",
      " ' V Class' ' Scirocco' ' i3' ' Grand C-MAX' ' SQ5' ' X7' ' Corolla' ' A7'\n",
      " ' Touareg' ' CLS Class' ' I20' ' M Class' ' Prius' ' KA' ' GT86' ' Hilux'\n",
      " ' Galaxy' ' M4' ' I800' ' Kona' ' Touran' ' Grand Tourneo Connect'\n",
      " ' Caravelle' ' Combo Life' ' GL Class' ' Avensis' ' SQ7' ' GLB Class'\n",
      " ' RS3' ' IX35' ' GTC' ' Land Cruiser' ' X6' ' RS5' ' Puma' ' CC' ' I40'\n",
      " ' i8' ' Eos' ' Rapid' ' Amarok' ' Beetle' ' Supra' ' California' ' A8'\n",
      " ' Z4' ' Q8' ' S4' ' Sharan' ' Mustang' ' M3' ' RS4' ' RS6' ' Fox'\n",
      " ' Cascada' ' M5' ' Caddy Maxi Life' ' Vivaro' ' X-CLASS' ' M6' ' Kadjar'\n",
      " ' Caddy Maxi' ' Fusion' ' Tourneo Custom' ' Tigra' ' M2' ' Agila'\n",
      " ' Zafira Tourer' ' Vectra' ' Ranger' ' Getz' ' R8' ' Roomster' ' Jetta'\n",
      " ' Veloster' ' S5' ' S3' ' Z3' ' Ampera' ' Caddy Life' ' Urban Cruiser'\n",
      " ' S8' ' Verso-S' ' IQ' ' CLK' ' PROACE VERSO' ' R Class' ' G Class' '180'\n",
      " ' Camry' ' Caddy' ' Terracan' ' Streetka' '200' ' Escort'\n",
      " ' Transit Tourneo' ' CLC Class' '230' ' A2' ' Amica' ' RS7' ' Accent'\n",
      " '220']\n"
     ]
    }
   ],
   "source": [
    "\n",
    "print(data['model'].unique())\n"
   ]
  }
 ],
 "metadata": {
  "kernelspec": {
   "display_name": "myVenv (3.13.3)",
   "language": "python",
   "name": "python3"
  },
  "language_info": {
   "codemirror_mode": {
    "name": "ipython",
    "version": 3
   },
   "file_extension": ".py",
   "mimetype": "text/x-python",
   "name": "python",
   "nbconvert_exporter": "python",
   "pygments_lexer": "ipython3",
   "version": "3.13.3"
  }
 },
 "nbformat": 4,
 "nbformat_minor": 2
}
